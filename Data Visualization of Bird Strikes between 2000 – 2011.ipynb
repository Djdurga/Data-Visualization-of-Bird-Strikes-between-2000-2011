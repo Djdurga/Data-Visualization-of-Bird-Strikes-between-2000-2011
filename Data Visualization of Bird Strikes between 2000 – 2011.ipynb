{
 "cells": [
  {
   "cell_type": "code",
   "execution_count": 1,
   "id": "2a95491b-a819-4567-9872-b2c547eb3828",
   "metadata": {},
   "outputs": [],
   "source": [
    "import pandas as pd\n",
    "import matplotlib.pyplot as plt"
   ]
  },
  {
   "cell_type": "code",
   "execution_count": 17,
   "id": "7d2d916e-c232-41db-b14e-2c058c181813",
   "metadata": {},
   "outputs": [],
   "source": [
    "# Load the data from the Excel file\n",
    "file_path = 'Bird Strikes data.xlsx'\n",
    "data = pd.read_excel(file_path)"
   ]
  },
  {
   "cell_type": "code",
   "execution_count": 19,
   "id": "558aedcc-33ce-4728-acd8-e12ff50975f9",
   "metadata": {},
   "outputs": [
    {
     "name": "stdout",
     "output_type": "stream",
     "text": [
      "   Record ID Aircraft: Type                Airport: Name Altitude bin  \\\n",
      "0     202152       Airplane                 LAGUARDIA NY    > 1000 ft   \n",
      "1     208159       Airplane  DALLAS/FORT WORTH INTL ARPT    < 1000 ft   \n",
      "2     207601       Airplane            LAKEFRONT AIRPORT    < 1000 ft   \n",
      "3     215953       Airplane          SEATTLE-TACOMA INTL    < 1000 ft   \n",
      "4     219878       Airplane                 NORFOLK INTL    < 1000 ft   \n",
      "\n",
      "  Aircraft: Make/Model Wildlife: Number struck  \\\n",
      "0            B-737-400                Over 100   \n",
      "1                MD-80                Over 100   \n",
      "2                C-500                Over 100   \n",
      "3            B-737-400                Over 100   \n",
      "4         CL-RJ100/200                Over 100   \n",
      "\n",
      "   Wildlife: Number Struck Actual Effect: Impact to flight FlightDate  \\\n",
      "0                             859         Engine Shut Down 2000-11-23   \n",
      "1                             424                      NaN 2001-07-25   \n",
      "2                             261                      NaN 2001-09-14   \n",
      "3                             806    Precautionary Landing 2002-09-05   \n",
      "4                             942                      NaN 2003-06-23   \n",
      "\n",
      "  Effect: Indicated Damage  ...  \\\n",
      "0            Caused damage  ...   \n",
      "1            Caused damage  ...   \n",
      "2                No damage  ...   \n",
      "3                No damage  ...   \n",
      "4                No damage  ...   \n",
      "\n",
      "                                             Remarks Wildlife: Size  \\\n",
      "0  FLT 753. PILOT REPTD A HUNDRED BIRDS ON UNKN T...         Medium   \n",
      "1  102 CARCASSES FOUND. 1 LDG LIGHT ON NOSE GEAR ...          Small   \n",
      "2  FLEW UNDER A VERY LARGE FLOCK OF BIRDS OVER AP...          Small   \n",
      "3  NOTAM WARNING. 26 BIRDS HIT THE A/C, FORCING A...          Small   \n",
      "4                                      NO DMG REPTD.          Small   \n",
      "\n",
      "  Conditions: Sky      Wildlife: Species Pilot warned of birds or wildlife?  \\\n",
      "0        No Cloud  Unknown bird - medium                                  N   \n",
      "1      Some Cloud            Rock pigeon                                  Y   \n",
      "2        No Cloud      European starling                                  N   \n",
      "3      Some Cloud      European starling                                  Y   \n",
      "4        No Cloud      European starling                                  N   \n",
      "\n",
      "   Cost: Total $  Feet above ground Number of people injured  \\\n",
      "0          30736             1500.0                        0   \n",
      "1              0                0.0                        0   \n",
      "2              0               50.0                        0   \n",
      "3              0               50.0                        0   \n",
      "4              0               50.0                        0   \n",
      "\n",
      "  Is Aircraft Large? IncidentYear  \n",
      "0                Yes       2000.0  \n",
      "1                 No       2001.0  \n",
      "2                 No       2001.0  \n",
      "3                Yes       2002.0  \n",
      "4                 No       2003.0  \n",
      "\n",
      "[5 rows x 27 columns]\n"
     ]
    }
   ],
   "source": [
    "# Display the first few rows of the data\n",
    "print(data.head())"
   ]
  },
  {
   "cell_type": "code",
   "execution_count": 21,
   "id": "401ebe0c-8484-4a0d-903a-a292c929123a",
   "metadata": {},
   "outputs": [
    {
     "name": "stdout",
     "output_type": "stream",
     "text": [
      "Missing values in each column:\n",
      " Record ID                                      0\n",
      "Aircraft: Type                               129\n",
      "Airport: Name                                129\n",
      "Altitude bin                                 129\n",
      "Aircraft: Make/Model                           0\n",
      "Wildlife: Number struck                      129\n",
      "Wildlife: Number Struck Actual                 0\n",
      "Effect: Impact to flight                   23480\n",
      "FlightDate                                   129\n",
      "Effect: Indicated Damage                       0\n",
      "Aircraft: Number of engines?                 267\n",
      "Aircraft: Airline/Operator                   129\n",
      "Origin State                                 449\n",
      "When: Phase of flight                        129\n",
      "Conditions: Precipitation                  23543\n",
      "Remains of wildlife collected?                 0\n",
      "Remains of wildlife sent to Smithsonian        0\n",
      "Remarks                                     4771\n",
      "Wildlife: Size                               129\n",
      "Conditions: Sky                                0\n",
      "Wildlife: Species                              0\n",
      "Pilot warned of birds or wildlife?           129\n",
      "Cost: Total $                                  0\n",
      "Feet above ground                            129\n",
      "Number of people injured                       0\n",
      "Is Aircraft Large?                           129\n",
      "IncidentYear                                 129\n",
      "dtype: int64\n"
     ]
    }
   ],
   "source": [
    "# Data Cleaning\n",
    "# Checking for missing values\n",
    "missing_values = data.isnull().sum()\n",
    "print(\"Missing values in each column:\\n\", missing_values)"
   ]
  },
  {
   "cell_type": "code",
   "execution_count": 23,
   "id": "7b7fb61f-ecd1-4502-8224-75ea7d4800de",
   "metadata": {},
   "outputs": [],
   "source": [
    "# Dropping rows with missing values (if any)\n",
    "cleaned_data = data.dropna()"
   ]
  },
  {
   "cell_type": "code",
   "execution_count": 25,
   "id": "36b5c334-aa12-4fb2-891d-9cf771209f07",
   "metadata": {},
   "outputs": [
    {
     "name": "stdout",
     "output_type": "stream",
     "text": [
      "\n",
      "Cleaned data preview:\n",
      "      Record ID Aircraft: Type                           Airport: Name  \\\n",
      "210     208033       Airplane                MINNEAPOLIS-ST PAUL INTL   \n",
      "222     205109       Airplane  CINCINNATI/NORTHERN KENTUCKY INTL ARPT   \n",
      "260     209544       Airplane                      METRO OAKLAND INTL   \n",
      "273     206608       Airplane                            ATLANTA INTL   \n",
      "339     209838       Airplane                       PHILADELPHIA INTL   \n",
      "\n",
      "    Altitude bin Aircraft: Make/Model Wildlife: Number struck  \\\n",
      "210    > 1000 ft             SAAB-340                 2 to 10   \n",
      "222    < 1000 ft         CL-RJ100/200                 2 to 10   \n",
      "260    > 1000 ft            B-737-400                 2 to 10   \n",
      "273    < 1000 ft                A-320                 2 to 10   \n",
      "339    < 1000 ft            B-737-400                 2 to 10   \n",
      "\n",
      "     Wildlife: Number Struck Actual Effect: Impact to flight FlightDate  \\\n",
      "210                               3    Precautionary Landing 2000-11-13   \n",
      "222                               5    Precautionary Landing 2000-12-13   \n",
      "260                               5    Precautionary Landing 2001-03-06   \n",
      "273                               9    Precautionary Landing 2001-04-13   \n",
      "339                               7                    Other 2001-08-13   \n",
      "\n",
      "    Effect: Indicated Damage  ...  \\\n",
      "210            Caused damage  ...   \n",
      "222            Caused damage  ...   \n",
      "260            Caused damage  ...   \n",
      "273            Caused damage  ...   \n",
      "339                No damage  ...   \n",
      "\n",
      "                                               Remarks Wildlife: Size  \\\n",
      "210  JUST ENTERING CLOUD BASES, STRUCK UNKN # OF BI...          Large   \n",
      "222                          DMG TO NOSE GEAR. FLT 957         Medium   \n",
      "260  RETD TO ARPT AFTER REPORTING A BIRDSTRIKE SHOR...         Medium   \n",
      "273  POSSIBLE STARLINGS. 2 BIRDS WERE INGESTED INTO...         Medium   \n",
      "339  FOG. PREVIOUS ARRIVAL REPTD BIRDS ON RWY. ATC ...         Medium   \n",
      "\n",
      "    Conditions: Sky      Wildlife: Species Pilot warned of birds or wildlife?  \\\n",
      "210        Overcast   Unknown bird - large                                  N   \n",
      "222        Overcast  Unknown bird - medium                                  N   \n",
      "260      Some Cloud  Unknown bird - medium                                  Y   \n",
      "273      Some Cloud  Unknown bird - medium                                  N   \n",
      "339        Overcast       Ring-billed gull                                  Y   \n",
      "\n",
      "     Cost: Total $  Feet above ground Number of people injured  \\\n",
      "210              0             1800.0                        0   \n",
      "222              0              400.0                        0   \n",
      "260              0             8000.0                        0   \n",
      "273              0                0.0                        0   \n",
      "339              0                0.0                        0   \n",
      "\n",
      "    Is Aircraft Large? IncidentYear  \n",
      "210                 No       2000.0  \n",
      "222                 No       2000.0  \n",
      "260                Yes       2001.0  \n",
      "273                 No       2001.0  \n",
      "339                Yes       2001.0  \n",
      "\n",
      "[5 rows x 27 columns]\n"
     ]
    }
   ],
   "source": [
    "# Display the first few rows of the cleaned data\n",
    "print(\"\\nCleaned data preview:\\n\", cleaned_data.head())"
   ]
  },
  {
   "cell_type": "code",
   "execution_count": 27,
   "id": "9a5922db-394f-4f59-9112-e3433b007a4a",
   "metadata": {},
   "outputs": [
    {
     "name": "stdout",
     "output_type": "stream",
     "text": [
      "\n",
      "Column names in cleaned data:\n",
      " Index(['Record ID', 'Aircraft: Type', 'Airport: Name', 'Altitude bin',\n",
      "       'Aircraft: Make/Model', 'Wildlife: Number struck',\n",
      "       'Wildlife: Number Struck Actual', 'Effect: Impact to flight',\n",
      "       'FlightDate', 'Effect: Indicated Damage',\n",
      "       'Aircraft: Number of engines?', 'Aircraft: Airline/Operator',\n",
      "       'Origin State', 'When: Phase of flight', 'Conditions: Precipitation',\n",
      "       'Remains of wildlife collected?',\n",
      "       'Remains of wildlife sent to Smithsonian', 'Remarks', 'Wildlife: Size',\n",
      "       'Conditions: Sky', 'Wildlife: Species',\n",
      "       'Pilot warned of birds or wildlife?', 'Cost: Total $',\n",
      "       'Feet above ground', 'Number of people injured', 'Is Aircraft Large?',\n",
      "       'IncidentYear'],\n",
      "      dtype='object')\n"
     ]
    }
   ],
   "source": [
    "print(\"\\nColumn names in cleaned data:\\n\", cleaned_data.columns)"
   ]
  },
  {
   "cell_type": "code",
   "execution_count": 31,
   "id": "ff8a6b61-cbdc-4fa7-92f1-a3be856c5d7e",
   "metadata": {},
   "outputs": [
    {
     "data": {
      "image/png": "[encoded data removed]",
      "text/plain": [
       "<Figure size 1000x600 with 1 Axes>"
      ]
     },
     "metadata": {},
     "output_type": "display_data"
    }
   ],
   "source": [
    "\n",
    "# Exploratory Data Analysis (EDA)\n",
    "# Visualize the number of bird strikes over the years\n",
    "yearly_data = cleaned_data['IncidentYear'].value_counts().sort_index()\n",
    "plt.figure(figsize=(10, 6))\n",
    "plt.plot(yearly_data.index, yearly_data.values, marker='o')\n",
    "plt.title('Number of Bird Strikes Over the Years')\n",
    "plt.xlabel('Year')\n",
    "plt.ylabel('Number of Bird Strikes')\n",
    "plt.grid(True)\n",
    "plt.show()"
   ]
  },
  {
   "cell_type": "code",
   "execution_count": 33,
   "id": "85c29246-797f-4e41-8a77-a34d9bb28523",
   "metadata": {},
   "outputs": [
    {
     "name": "stdout",
     "output_type": "stream",
     "text": [
      "Yearly Analysis of Bird Strikes:\n",
      " IncidentYear\n",
      "2000.0    13\n",
      "2001.0     8\n",
      "2002.0    12\n",
      "2003.0    18\n",
      "2004.0    21\n",
      "2005.0    16\n",
      "2006.0    18\n",
      "2007.0    11\n",
      "2008.0    18\n",
      "2009.0    21\n",
      "2010.0    14\n",
      "2011.0    10\n",
      "dtype: int64\n"
     ]
    }
   ],
   "source": [
    "# Yearly Analysis of Bird Strikes\n",
    "yearly_analysis = cleaned_data.groupby('IncidentYear').size()\n",
    "print(\"Yearly Analysis of Bird Strikes:\\n\", yearly_analysis)"
   ]
  },
  {
   "cell_type": "code",
   "execution_count": 41,
   "id": "e17f498f-310e-4a17-a4ee-79e3609e2c5d",
   "metadata": {},
   "outputs": [
    {
     "name": "stdout",
     "output_type": "stream",
     "text": [
      "Top 50 Airports with most bird strike incidents:\n",
      " Airport: Name\n",
      "SACRAMENTO INTL                           6\n",
      "PORTLAND INTL (OR)                        5\n",
      "GREATER PITTSBURGH                        5\n",
      "CINCINNATI/NORTHERN KENTUCKY INTL ARPT    5\n",
      "PORTLAND-HILLSBORO ARPT                   4\n",
      "TETERBORO AIRPORT                         4\n",
      "CHARLOTTE/DOUGLAS INTL ARPT               4\n",
      "CHICAGO O'HARE INTL ARPT                  4\n",
      "MINNEAPOLIS-ST PAUL INTL                  3\n",
      "LOUISVILLE INTL ARPT                      3\n",
      "MINETA SAN JOSE INTL                      3\n",
      "LAGUARDIA NY                              3\n",
      "MORRISTOWN MUNICIPAL ARPT                 3\n",
      "KANSAS CITY INTL                          3\n",
      "BALTIMORE WASH INTL                       3\n",
      "BURKE LAKEFRONT                           3\n",
      "HONOLULU INTL ARPT                        3\n",
      "CHICAGO MIDWAY INTL ARPT                  3\n",
      "GROTON-NEW LONDON AR                      2\n",
      "NEW ORLEANS INTL                          2\n",
      "PETERSBURG JAMES A JOHNSON ARPT           2\n",
      "DENVER INTL AIRPORT                       2\n",
      "CHERRY CAPITAL ARPT                       2\n",
      "SITKA ROCKY GUTIERREZ ARPT                2\n",
      "ALLEGHENY COUNTY ARPT                     2\n",
      "INDIANAPOLIS INTL                         2\n",
      "PORT COLUMBUS INTL                        2\n",
      "DAYTONA BEACH INTL                        2\n",
      "BIRMINGHAM-SHUTTLESWORTH INTL             2\n",
      "SAN FRANCISCO INTL ARPT                   2\n",
      "ORLANDO INTL                              2\n",
      "JUNEAU INTL ARPT                          2\n",
      "STEWART INTL AIRPORT                      2\n",
      "WESTCHESTER COUNTY ARPT                   2\n",
      "PHILADELPHIA INTL                         2\n",
      "METRO OAKLAND INTL                        2\n",
      "ST AUGUSTINE                              2\n",
      "WILLOW RUN ARPT                           2\n",
      "DALLAS/FORT WORTH INTL ARPT               2\n",
      "RICHARD LLOYD JONES JR ARPT               2\n",
      "JOHN F KENNEDY INTL                       2\n",
      "NEWARK LIBERTY INTL ARPT                  2\n",
      "WILEY POST-WILL ROGERS MEM                1\n",
      "GEORGE BUSH INTERCONTINENTAL              1\n",
      "MONMOUTH EXECUTIVE ARPT                   1\n",
      "BOEING FIELD K C INT                      1\n",
      "BOWMAN FIELD                              1\n",
      "NORFOLK INTL                              1\n",
      "GRANT COUNTY ARPT                         1\n",
      "DETROIT METRO WAYNE COUNTY ARPT           1\n",
      "Name: count, dtype: int64\n"
     ]
    }
   ],
   "source": [
    "# Top 50 Airports with most bird strike incidents\n",
    "top_airports = cleaned_data['Airport: Name'].value_counts().head(50)\n",
    "print(\"Top 50 Airports with most bird strike incidents:\\n\", top_airports)"
   ]
  },
  {
   "cell_type": "code",
   "execution_count": 45,
   "id": "333dbfeb-2a6a-43f9-84ed-4eaeacc52565",
   "metadata": {},
   "outputs": [
    {
     "data": {
      "image/png": "[encoded data removed]",
      "text/plain": [
       "<Figure size 1000x600 with 1 Axes>"
      ]
     },
     "metadata": {},
     "output_type": "display_data"
    }
   ],
   "source": [
    "# Yearly Cost Incurred due to Bird Strikes\n",
    "yearly_cost = cleaned_data.groupby('IncidentYear')['Cost: Total $'].sum()\n",
    "plt.figure(figsize=(10, 6))\n",
    "plt.bar(yearly_cost.index, yearly_cost.values)\n",
    "plt.title('Yearly Cost Incurred due to Bird Strikes')\n",
    "plt.xlabel('Year')\n",
    "plt.ylabel('Cost ($)')\n",
    "plt.grid(True)\n",
    "plt.show()"
   ]
  },
  {
   "cell_type": "code",
   "execution_count": 61,
   "id": "6f99a934-e75d-46d0-9f20-e532d326955c",
   "metadata": {},
   "outputs": [
    {
     "ename": "KeyError",
     "evalue": "'IncidentDate'",
     "output_type": "error",
     "traceback": [
      "\u001b[0;31m---------------------------------------------------------------------------\u001b[0m",
      "\u001b[0;31mKeyError\u001b[0m                                  Traceback (most recent call last)",
      "File \u001b[0;32m/opt/anaconda3/lib/python3.11/site-packages/pandas/core/indexes/base.py:3791\u001b[0m, in \u001b[0;36mIndex.get_loc\u001b[0;34m(self, key)\u001b[0m\n\u001b[1;32m   3790\u001b[0m \u001b[38;5;28;01mtry\u001b[39;00m:\n\u001b[0;32m-> 3791\u001b[0m     \u001b[38;5;28;01mreturn\u001b[39;00m \u001b[38;5;28mself\u001b[39m\u001b[38;5;241m.\u001b[39m_engine\u001b[38;5;241m.\u001b[39mget_loc(casted_key)\n\u001b[1;32m   3792\u001b[0m \u001b[38;5;28;01mexcept\u001b[39;00m \u001b[38;5;167;01mKeyError\u001b[39;00m \u001b[38;5;28;01mas\u001b[39;00m err:\n",
      "File \u001b[0;32mindex.pyx:152\u001b[0m, in \u001b[0;36mpandas._libs.index.IndexEngine.get_loc\u001b[0;34m()\u001b[0m\n",
      "File \u001b[0;32mindex.pyx:181\u001b[0m, in \u001b[0;36mpandas._libs.index.IndexEngine.get_loc\u001b[0;34m()\u001b[0m\n",
      "File \u001b[0;32mpandas/_libs/hashtable_class_helper.pxi:7080\u001b[0m, in \u001b[0;36mpandas._libs.hashtable.PyObjectHashTable.get_item\u001b[0;34m()\u001b[0m\n",
      "File \u001b[0;32mpandas/_libs/hashtable_class_helper.pxi:7088\u001b[0m, in \u001b[0;36mpandas._libs.hashtable.PyObjectHashTable.get_item\u001b[0;34m()\u001b[0m\n",
      "\u001b[0;31mKeyError\u001b[0m: 'IncidentDate'",
      "\nThe above exception was the direct cause of the following exception:\n",
      "\u001b[0;31mKeyError\u001b[0m                                  Traceback (most recent call last)",
      "Cell \u001b[0;32mIn[61], line 5\u001b[0m\n\u001b[1;32m      2\u001b[0m data[\u001b[38;5;124m'\u001b[39m\u001b[38;5;124mIncidentDate\u001b[39m\u001b[38;5;124m'\u001b[39m] \u001b[38;5;241m=\u001b[39m pd\u001b[38;5;241m.\u001b[39mto_datetime(data[\u001b[38;5;124m'\u001b[39m\u001b[38;5;124mFlightDate\u001b[39m\u001b[38;5;124m'\u001b[39m])\u001b[38;5;241m.\u001b[39mdt\u001b[38;5;241m.\u001b[39mdate\n\u001b[1;32m      3\u001b[0m \u001b[38;5;66;03m# When do most bird strikes occur? (Time of day, month, season)\u001b[39;00m\n\u001b[1;32m      4\u001b[0m \u001b[38;5;66;03m# Assuming the dataset has columns for Time and Date\u001b[39;00m\n\u001b[0;32m----> 5\u001b[0m cleaned_data[\u001b[38;5;124m'\u001b[39m\u001b[38;5;124mIncidentMonth\u001b[39m\u001b[38;5;124m'\u001b[39m] \u001b[38;5;241m=\u001b[39m pd\u001b[38;5;241m.\u001b[39mto_datetime(cleaned_data[\u001b[38;5;124m'\u001b[39m\u001b[38;5;124mIncidentDate\u001b[39m\u001b[38;5;124m'\u001b[39m])\u001b[38;5;241m.\u001b[39mdt\u001b[38;5;241m.\u001b[39mmonth\n\u001b[1;32m      6\u001b[0m monthly_strikes \u001b[38;5;241m=\u001b[39m cleaned_data[\u001b[38;5;124m'\u001b[39m\u001b[38;5;124mIncidentMonth\u001b[39m\u001b[38;5;124m'\u001b[39m]\u001b[38;5;241m.\u001b[39mvalue_counts()\u001b[38;5;241m.\u001b[39msort_index()\n\u001b[1;32m      7\u001b[0m plt\u001b[38;5;241m.\u001b[39mfigure(figsize\u001b[38;5;241m=\u001b[39m(\u001b[38;5;241m10\u001b[39m, \u001b[38;5;241m6\u001b[39m))\n",
      "File \u001b[0;32m/opt/anaconda3/lib/python3.11/site-packages/pandas/core/frame.py:3893\u001b[0m, in \u001b[0;36mDataFrame.__getitem__\u001b[0;34m(self, key)\u001b[0m\n\u001b[1;32m   3891\u001b[0m \u001b[38;5;28;01mif\u001b[39;00m \u001b[38;5;28mself\u001b[39m\u001b[38;5;241m.\u001b[39mcolumns\u001b[38;5;241m.\u001b[39mnlevels \u001b[38;5;241m>\u001b[39m \u001b[38;5;241m1\u001b[39m:\n\u001b[1;32m   3892\u001b[0m     \u001b[38;5;28;01mreturn\u001b[39;00m \u001b[38;5;28mself\u001b[39m\u001b[38;5;241m.\u001b[39m_getitem_multilevel(key)\n\u001b[0;32m-> 3893\u001b[0m indexer \u001b[38;5;241m=\u001b[39m \u001b[38;5;28mself\u001b[39m\u001b[38;5;241m.\u001b[39mcolumns\u001b[38;5;241m.\u001b[39mget_loc(key)\n\u001b[1;32m   3894\u001b[0m \u001b[38;5;28;01mif\u001b[39;00m is_integer(indexer):\n\u001b[1;32m   3895\u001b[0m     indexer \u001b[38;5;241m=\u001b[39m [indexer]\n",
      "File \u001b[0;32m/opt/anaconda3/lib/python3.11/site-packages/pandas/core/indexes/base.py:3798\u001b[0m, in \u001b[0;36mIndex.get_loc\u001b[0;34m(self, key)\u001b[0m\n\u001b[1;32m   3793\u001b[0m     \u001b[38;5;28;01mif\u001b[39;00m \u001b[38;5;28misinstance\u001b[39m(casted_key, \u001b[38;5;28mslice\u001b[39m) \u001b[38;5;129;01mor\u001b[39;00m (\n\u001b[1;32m   3794\u001b[0m         \u001b[38;5;28misinstance\u001b[39m(casted_key, abc\u001b[38;5;241m.\u001b[39mIterable)\n\u001b[1;32m   3795\u001b[0m         \u001b[38;5;129;01mand\u001b[39;00m \u001b[38;5;28many\u001b[39m(\u001b[38;5;28misinstance\u001b[39m(x, \u001b[38;5;28mslice\u001b[39m) \u001b[38;5;28;01mfor\u001b[39;00m x \u001b[38;5;129;01min\u001b[39;00m casted_key)\n\u001b[1;32m   3796\u001b[0m     ):\n\u001b[1;32m   3797\u001b[0m         \u001b[38;5;28;01mraise\u001b[39;00m InvalidIndexError(key)\n\u001b[0;32m-> 3798\u001b[0m     \u001b[38;5;28;01mraise\u001b[39;00m \u001b[38;5;167;01mKeyError\u001b[39;00m(key) \u001b[38;5;28;01mfrom\u001b[39;00m \u001b[38;5;21;01merr\u001b[39;00m\n\u001b[1;32m   3799\u001b[0m \u001b[38;5;28;01mexcept\u001b[39;00m \u001b[38;5;167;01mTypeError\u001b[39;00m:\n\u001b[1;32m   3800\u001b[0m     \u001b[38;5;66;03m# If we have a listlike key, _check_indexing_error will raise\u001b[39;00m\n\u001b[1;32m   3801\u001b[0m     \u001b[38;5;66;03m#  InvalidIndexError. Otherwise we fall through and re-raise\u001b[39;00m\n\u001b[1;32m   3802\u001b[0m     \u001b[38;5;66;03m#  the TypeError.\u001b[39;00m\n\u001b[1;32m   3803\u001b[0m     \u001b[38;5;28mself\u001b[39m\u001b[38;5;241m.\u001b[39m_check_indexing_error(key)\n",
      "\u001b[0;31mKeyError\u001b[0m: 'IncidentDate'"
     ]
    }
   ],
   "source": [
    "data['IncidentMonth'] = pd.to_datetime(data['FlightDate']).dt.month\n",
    "data['IncidentDate'] = pd.to_datetime(data['FlightDate']).dt.date\n",
    "# When do most bird strikes occur? (Time of day, month, season)\n",
    "# Assuming the dataset has columns for Time and Date\n",
    "cleaned_data['IncidentMonth'] = pd.to_datetime(cleaned_data['IncidentDate']).dt.month\n",
    "monthly_strikes = cleaned_data['IncidentMonth'].value_counts().sort_index()\n",
    "plt.figure(figsize=(10, 6))\n",
    "plt.bar(monthly_strikes.index, monthly_strikes.values)\n",
    "plt.title('Bird Strikes by Month')\n",
    "plt.xlabel('Month')\n",
    "plt.ylabel('Number of Bird Strikes')\n",
    "plt.grid(True)\n",
    "plt.show()"
   ]
  },
  {
   "cell_type": "code",
   "execution_count": 49,
   "id": "695b67a0-7b8c-47f2-ac4d-8d83c9d34872",
   "metadata": {},
   "outputs": [
    {
     "name": "stdout",
     "output_type": "stream",
     "text": [
      "Altitude data at the time of bird strikes:\n",
      " Altitude bin\n",
      "< 1000 ft    164\n",
      "> 1000 ft     16\n",
      "dtype: int64\n"
     ]
    }
   ],
   "source": [
    "# Altitude and Phase of Flight Analysis\n",
    "altitude_data = cleaned_data.groupby('Altitude bin').size()\n",
    "print(\"Altitude data at the time of bird strikes:\\n\", altitude_data)"
   ]
  },
  {
   "cell_type": "code",
   "execution_count": 51,
   "id": "d0f167b1-c869-4831-804d-10df4ce84026",
   "metadata": {},
   "outputs": [
    {
     "name": "stdout",
     "output_type": "stream",
     "text": [
      "Phase of flight at the time of bird strikes:\n",
      " When: Phase of flight\n",
      "Take-off run    85\n",
      "Climb           57\n",
      "Approach        24\n",
      "Landing Roll    12\n",
      "Parked           2\n",
      "Name: count, dtype: int64\n"
     ]
    }
   ],
   "source": [
    "phase_of_flight_data = cleaned_data['When: Phase of flight'].value_counts()\n",
    "print(\"Phase of flight at the time of bird strikes:\\n\", phase_of_flight_data)"
   ]
  },
  {
   "cell_type": "code",
   "execution_count": 53,
   "id": "dc17b13e-3850-4a49-b157-c85151c50109",
   "metadata": {},
   "outputs": [
    {
     "name": "stdout",
     "output_type": "stream",
     "text": [
      "Impact of bird strikes on flights:\n",
      " Effect: Impact to flight\n",
      "Precautionary Landing    78\n",
      "Aborted Take-off         53\n",
      "Other                    40\n",
      "Engine Shut Down          9\n",
      "Name: count, dtype: int64\n"
     ]
    }
   ],
   "source": [
    "# Impact of Bird Strikes on Flights\n",
    "impact_data = cleaned_data['Effect: Impact to flight'].value_counts()\n",
    "print(\"Impact of bird strikes on flights:\\n\", impact_data)"
   ]
  },
  {
   "cell_type": "code",
   "execution_count": 55,
   "id": "dcb4e2e6-7e6f-4ff4-9a05-79b5f6111156",
   "metadata": {},
   "outputs": [
    {
     "name": "stdout",
     "output_type": "stream",
     "text": [
      "Were pilots informed about bird strikes?\n",
      " Pilot warned of birds or wildlife?\n",
      "N    101\n",
      "Y     79\n",
      "Name: count, dtype: int64\n"
     ]
    }
   ],
   "source": [
    "# Were Pilots Informed? & Prior Warning and Effect of Strike Relation\n",
    "pilot_informed_data = cleaned_data['Pilot warned of birds or wildlife?'].value_counts()\n",
    "print(\"Were pilots informed about bird strikes?\\n\", pilot_informed_data)"
   ]
  },
  {
   "cell_type": "code",
   "execution_count": null,
   "id": "c3cfbd69-3dff-4418-b51f-cf1776448392",
   "metadata": {},
   "outputs": [],
   "source": []
  }
 ],
 "metadata": {
  "kernelspec": {
   "display_name": "Python 3 (ipykernel)",
   "language": "python",
   "name": "python3"
  },
  "language_info": {
   "codemirror_mode": {
    "name": "ipython",
    "version": 3
   },
   "file_extension": ".py",
   "mimetype": "text/x-python",
   "name": "python",
   "nbconvert_exporter": "python",
   "pygments_lexer": "ipython3",
   "version": "3.11.7"
  }
 },
 "nbformat": 4,
 "nbformat_minor": 5
}
